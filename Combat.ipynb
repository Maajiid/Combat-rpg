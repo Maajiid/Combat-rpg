{
 "cells": [
  {
   "cell_type": "code",
   "execution_count": 25,
   "metadata": {},
   "outputs": [
    {
     "name": "stdout",
     "output_type": "stream",
     "text": [
      "Tour 1:\n",
      "Choisissez le type d'attaque:\n",
      "1. Attaque normale\n",
      "2. Attaque spéciale\n",
      "hero effectue une attaque spéciale sur boss et lui inflige 40 dégâts.\n",
      "boss effectue une attaque normale sur hero et lui inflige 15 dégâts.\n"
     ]
    },
    {
     "ename": "TypeError",
     "evalue": "can only concatenate str (not \"int\") to str",
     "output_type": "error",
     "traceback": [
      "\u001b[1;31m---------------------------------------------------------------------------\u001b[0m",
      "\u001b[1;31mTypeError\u001b[0m                                 Traceback (most recent call last)",
      "\u001b[1;32mUntitled-1.ipynb Cell 2\u001b[0m line \u001b[0;36m4\n\u001b[0;32m     <a href='vscode-notebook-cell:Untitled-1.ipynb?jupyter-notebook#W2sdW50aXRsZWQ%3D?line=36'>37</a>\u001b[0m     hero\u001b[39m.\u001b[39mattaque_normale(boss)\n\u001b[0;32m     <a href='vscode-notebook-cell:Untitled-1.ipynb?jupyter-notebook#W2sdW50aXRsZWQ%3D?line=38'>39</a>\u001b[0m boss\u001b[39m.\u001b[39mattaque_normale(hero)  \n\u001b[1;32m---> <a href='vscode-notebook-cell:Untitled-1.ipynb?jupyter-notebook#W2sdW50aXRsZWQ%3D?line=39'>40</a>\u001b[0m \u001b[39mprint\u001b[39m(\u001b[39m\"\u001b[39;49m\u001b[39mVous avez\u001b[39;49m\u001b[39m\"\u001b[39;49m \u001b[39m+\u001b[39;49mhero\u001b[39m.\u001b[39;49mpoints_de_vie)\n\u001b[0;32m     <a href='vscode-notebook-cell:Untitled-1.ipynb?jupyter-notebook#W2sdW50aXRsZWQ%3D?line=40'>41</a>\u001b[0m \u001b[39mprint\u001b[39m(\u001b[39m\"\u001b[39m\u001b[39m Le boss a\u001b[39m\u001b[39m\"\u001b[39m \u001b[39m+\u001b[39mboss\u001b[39m.\u001b[39mpoints_de_vie)\n\u001b[0;32m     <a href='vscode-notebook-cell:Untitled-1.ipynb?jupyter-notebook#W2sdW50aXRsZWQ%3D?line=41'>42</a>\u001b[0m tour \u001b[39m+\u001b[39m\u001b[39m=\u001b[39m \u001b[39m1\u001b[39m\n",
      "\u001b[1;31mTypeError\u001b[0m: can only concatenate str (not \"int\") to str"
     ]
    }
   ],
   "source": [
    "class Joueur:\n",
    "    def __init__(psg, nom, points_de_vie, degats):\n",
    "        psg.nom = nom\n",
    "        psg.points_de_vie = points_de_vie\n",
    "        psg.degats = degats\n",
    "\n",
    "    def attaque_normale(psg, adversaire):\n",
    "        adversaire.points_de_vie -= psg.degats\n",
    "        print(f\"{psg.nom} effectue une attaque normale sur {adversaire.nom} et lui inflige {psg.degats} dégâts.\")\n",
    "\n",
    "    def attaque_speciale(psg, adversaire):\n",
    "        degats_speciaux = psg.degats * 2  \n",
    "        adversaire.points_de_vie -= degats_speciaux\n",
    "        print(f\"{psg.nom} effectue une attaque spéciale sur {adversaire.nom} et lui inflige {degats_speciaux} dégâts.\")\n",
    "\n",
    "\n",
    "hero = Joueur(\"hero\", 100, 20)\n",
    "boss = Joueur(\"boss\", 150, 15)\n",
    "\n",
    "\n",
    "tour = 1\n",
    "while hero.points_de_vie > 0 and boss.points_de_vie > 0:\n",
    "    print(f\"Tour {tour}:\")\n",
    "    \n",
    "    \n",
    "    print(\"Choisissez le type d'attaque:\")\n",
    "    print(\"1. Attaque normale\")\n",
    "    print(\"2. Attaque spéciale\")\n",
    "    choix_attaque_hero = input(\"Entrez 1 ou 2: \")\n",
    "    \n",
    "    if choix_attaque_hero == \"1\":\n",
    "        hero.attaque_normale(boss)\n",
    "    elif choix_attaque_hero == \"2\":\n",
    "        hero.attaque_speciale(boss)\n",
    "    else:\n",
    "        print(\"Choix invalide. Attaque normale effectuée.\")\n",
    "        hero.attaque_normale(boss)\n",
    "    \n",
    "    boss.attaque_normale(hero)  \n",
    "    print(hero.points_de_vie)\n",
    "    print(boss.points_de_vie)\n",
    "    tour += 1\n",
    "\n",
    "\n",
    "if hero.points_de_vie <= 0:\n",
    "    print(\"vous avez perdu le combat! Vous devez recommencer le jeu\")\n",
    "elif boss.points_de_vie <= 0:\n",
    "    print(\"Felicitations, vous avez gagnez le combat!\")\n",
    "\n"
   ]
  }
 ],
 "metadata": {
  "kernelspec": {
   "display_name": "Python 3",
   "language": "python",
   "name": "python3"
  },
  "language_info": {
   "codemirror_mode": {
    "name": "ipython",
    "version": 3
   },
   "file_extension": ".py",
   "mimetype": "text/x-python",
   "name": "python",
   "nbconvert_exporter": "python",
   "pygments_lexer": "ipython3",
   "version": "3.8.2"
  }
 },
 "nbformat": 4,
 "nbformat_minor": 2
}
